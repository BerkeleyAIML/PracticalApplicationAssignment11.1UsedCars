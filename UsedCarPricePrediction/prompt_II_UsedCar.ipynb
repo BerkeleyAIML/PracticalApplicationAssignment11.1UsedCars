{
 "cells": [
  {
   "metadata": {},
   "cell_type": "markdown",
   "source": "",
   "id": "d41566dd997664e4"
  },
  {
   "metadata": {},
   "cell_type": "markdown",
   "source": [
    "# What drives the price of a car?\n",
    "\n",
    "![](images/kurt.jpeg)"
   ],
   "id": "58dd1f8b63bd2387"
  },
  {
   "metadata": {},
   "cell_type": "markdown",
   "source": [
    "**OVERVIEW**\n",
    "\n",
    "In this application, you will explore a dataset from kaggle. The original dataset contained information on 3 million used cars. The provided dataset contains information on 426K cars to ensure speed of processing.  Your goal is to understand what factors make a car more or less expensive.  As a result of your analysis, you should provide clear recommendations to your client -- a used car dealership -- as to what consumers value in a used car."
   ],
   "id": "1dfcb53b68c8db79"
  },
  {
   "metadata": {},
   "cell_type": "markdown",
   "source": [
    "### CRISP-DM Framework\n",
    "\n",
    "<center>\n",
    "    <img src = images/crisp.png width = 50%/>\n",
    "</center>\n",
    "\n",
    "\n",
    "To frame the task, throughout our practical applications we will refer back to a standard process in industry for data projects called CRISP-DM.  This process provides a framework for working through a data problem.  Your first step in this application will be to read through a brief overview of CRISP-DM [here](https://mo-pcco.s3.us-east-1.amazonaws.com/BH-PCMLAI/module_11/readings_starter.zip).  After reading the overview, answer the questions below."
   ],
   "id": "ca4a227b89a9165"
  },
  {
   "metadata": {},
   "cell_type": "markdown",
   "source": [
    "### Business Understanding\n",
    "\n",
    "From a business perspective, we are tasked with identifying key drivers for used car prices.  In the CRISP-DM overview, we are asked to convert this business framing to a data problem definition.  Using a few sentences, reframe the task as a data task with the appropriate technical vocabulary. "
   ],
   "id": "d8a2b6146384090e"
  },
  {
   "metadata": {},
   "cell_type": "markdown",
   "source": [
    "### Reframe the Business task Data Science Problem\n",
    "\n",
    "The task is to identify the key drivers of used car prices.  This is a regression problem where we aim to predict the price of a used car based on a number of features.  We will use a dataset of used car sales to build a model that can predict the price of a used car based on its features. The dependent variable is the car's price, while the independent variables are possible predictors such as the make, model, year, mileage, condition, and additional features.  The model will be used to identify the key drivers of used car prices. The model's performance will be evaluated using R-squared, Mean Absolute Error (MAE), and Root Mean Squared Error (RMSE) to guarantee reliable and actionable results.\n"
   ],
   "id": "17c7886421106a39"
  },
  {
   "metadata": {},
   "cell_type": "markdown",
   "source": [
    "### Data Understanding\n",
    "\n",
    "After considering the business understanding, we want to get familiar with our data.  Write down some steps that you would take to get to know the dataset and identify any quality issues within.  Take time to get to know the dataset and explore what information it contains and how this could be used to inform your business understanding."
   ],
   "id": "137d232ba87dfd1e"
  },
  {
   "metadata": {},
   "cell_type": "code",
   "outputs": [],
   "execution_count": null,
   "source": [
    "#  Import necessary libraries\n",
    "\n",
    "\n",
    "\n"
   ],
   "id": "3aa303bc6ef2c147"
  }
 ],
 "metadata": {
  "kernelspec": {
   "display_name": "Python 3",
   "language": "python",
   "name": "python3"
  },
  "language_info": {
   "codemirror_mode": {
    "name": "ipython",
    "version": 2
   },
   "file_extension": ".py",
   "mimetype": "text/x-python",
   "name": "python",
   "nbconvert_exporter": "python",
   "pygments_lexer": "ipython2",
   "version": "2.7.6"
  }
 },
 "nbformat": 4,
 "nbformat_minor": 5
}
